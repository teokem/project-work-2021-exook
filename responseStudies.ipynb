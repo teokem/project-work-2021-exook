{
 "cells": [
  {
   "cell_type": "markdown",
   "id": "gentle-demographic",
   "metadata": {},
   "source": [
    "# Trigger Level Analysis Plotting for Response and Resolution studies at the ATLAS Experiment\n",
    "\n",
    "## Abstract\n",
    "The Trigger Level Analysis (TLA) at the ATLAS experiment uses partly reconstructed particle collision events for its analysis. The smaller data size allows TLA to obtain a much larger number of events and a smaller statisitical uncertainty. This notebook presents the data processing and analysis used to verify the smoothness of the TLA calibration as well as the resolution of the analysis."
   ]
  },
  {
   "cell_type": "markdown",
   "id": "automated-prospect",
   "metadata": {},
   "source": [
    "## Introduction\n",
    "When particles collide at the LHC it is possible that new particles are created which decay into decay products. The ATLAS detecor allows us to study the properties of these decay products and learn about the properties of the original particle. Due to the nature of the strong force, the proton-proton collisions at the LHC often one of the most commonly occurring observable objects at ATLAS are the collimated particle showers. From the detector data we can then group the energy deposits of these particle showers into an object called a jet, and by studying these jets we can learn about potential particles created in the collision.\n",
    "\n",
    "Particle collision event data at the Large Hadron Collider (LHC) at CERN uses a specialized data framework and file format called ROOT. For each particle collision event we can acces, among other things, the jets energy and momentum (and direction in the cylindrical coordinates eta and phi). With this we can represent the two \"largest\" jets (highest transverse momentum (pT)) as Lorentz vectors and calculate the invariant mass of the particle formed by the collision (if there is any).\n",
    "\n",
    "Before we run the following code a C++ algorithm has processed millions of simulated particle collision events. With simulated events we can look at the energy and momentum of particles and jets as they would look purley theoretically, called \"truth jets\". We can also simulate each particles propagation and interaction with the different elements of the detector, as well as the detecotr readout to get a so called \"reconstructed jet\". Looking at the ratio the transverse momentum, energy, or invariant mass between the reconstructed jets and truth jets can give us important information about our detector and data processing.\n",
    "\n",
    "The C++ algorithm outputs 3D histograms with response, truth mjj (pT, or energy), truth eta on the x, y, and z axis respectively. This notebook transforms this 3D histogram and transforms it into more understandable plots such as response vs truth mjj using the following steps:\n",
    "\n",
    "* Fitting\n",
    "    * 3D histograms are sliced on the z axis and projected into a 2D histogram (each slice is usuallly a truht eta)\n",
    "    * 2D histograms are sliced in bins on the y axis and projected into 1D histograms (each slice is usuallly a truht pT or truth mjj range/bin width)\n",
    "    * 1D histograms are fitted with a gaussian using an external python script called \"JESBalanceFitter\"\n",
    "    * Information about the gaussian fits are written to disk for future processing\n",
    "* Plotting\n",
    "    * A set of the avaliable fit collections is created, one per initial 3D histogram\n",
    "    * For each 3D histogram the fit mean is plotted at the corresponding 1D histograms pT or mjj bin. Providing a response vs truth mjj plot for all bins"
   ]
  },
  {
   "cell_type": "markdown",
   "id": "dimensional-collectible",
   "metadata": {},
   "source": [
    "## Loading the 3D histograms\n"
   ]
  },
  {
   "cell_type": "code",
   "execution_count": 1,
   "id": "sitting-fiber",
   "metadata": {},
   "outputs": [
    {
     "name": "stdout",
     "output_type": "stream",
     "text": [
      "Welcome to JupyROOT 6.20/00\n"
     ]
    }
   ],
   "source": [
    "import ROOT\n",
    "from array import array\n",
    "from JES_BalanceFitter import JES_BalanceFitter\n",
    "import numpy as np\n",
    "import pandas as pd\n",
    "import pickle"
   ]
  },
  {
   "cell_type": "markdown",
   "id": "mysterious-limit",
   "metadata": {},
   "source": [
    "Initialise parameters for fitting"
   ]
  },
  {
   "cell_type": "code",
   "execution_count": 2,
   "id": "medical-potential",
   "metadata": {},
   "outputs": [],
   "source": [
    "rootFilePath = \"/home/pekman/TLA/TH3Files/v14/merged_mc16d_mjj_v14.root\"\n",
    "\n",
    "graphType = \"response\"\n",
    "\n",
    "slicingAxis = \"z\"\n",
    "choosenSlices = [[-2.8,2.8]]\n",
    "\n",
    "projectionAxis = \"y\"\n",
    "projectionRebinWidth = 1\n",
    "\n",
    "responseAxis = \"x\"\n",
    "\n",
    "nSigmaForFit = 1.3\n",
    "fitOptString = \"RESQ\""
   ]
  },
  {
   "cell_type": "markdown",
   "id": "desperate-afternoon",
   "metadata": {},
   "source": [
    "Create an empty dataframe with an entry for each 3D histogram"
   ]
  },
  {
   "cell_type": "code",
   "execution_count": 3,
   "id": "bound-inspector",
   "metadata": {},
   "outputs": [
    {
     "name": "stdout",
     "output_type": "stream",
     "text": [
      "                                                   x   y xError yError sigma  \\\n",
      "scaled_h_-_EM-Online_over_-truth_-_pt_-_eta       []  []     []     []    []   \n",
      "scaled_h_-_EM-Online_over_-truth_-_mjj_-_eta      []  []     []     []    []   \n",
      "scaled_h_-_Pileup-Online_over_-truth_-_pt_-_eta   []  []     []     []    []   \n",
      "scaled_h_-_Pileup-Online_over_-truth_-_mjj_-_eta  []  []     []     []    []   \n",
      "scaled_h_-_EtaJES-Online_over_-truth_-_pt_-_eta   []  []     []     []    []   \n",
      "scaled_h_-_EtaJES-Online_over_-truth_-_mjj_-_eta  []  []     []     []    []   \n",
      "scaled_h_-_GSC-Online_over_-truth_-_pt_-_eta      []  []     []     []    []   \n",
      "scaled_h_-_GSC-Online_over_-truth_-_mjj_-_eta     []  []     []     []    []   \n",
      "\n",
      "                                                 sigmaError sigmaOverY  \\\n",
      "scaled_h_-_EM-Online_over_-truth_-_pt_-_eta              []         []   \n",
      "scaled_h_-_EM-Online_over_-truth_-_mjj_-_eta             []         []   \n",
      "scaled_h_-_Pileup-Online_over_-truth_-_pt_-_eta          []         []   \n",
      "scaled_h_-_Pileup-Online_over_-truth_-_mjj_-_eta         []         []   \n",
      "scaled_h_-_EtaJES-Online_over_-truth_-_pt_-_eta          []         []   \n",
      "scaled_h_-_EtaJES-Online_over_-truth_-_mjj_-_eta         []         []   \n",
      "scaled_h_-_GSC-Online_over_-truth_-_pt_-_eta             []         []   \n",
      "scaled_h_-_GSC-Online_over_-truth_-_mjj_-_eta            []         []   \n",
      "\n",
      "                                                 fitAmplitude fitMin fitMax  \\\n",
      "scaled_h_-_EM-Online_over_-truth_-_pt_-_eta                []     []     []   \n",
      "scaled_h_-_EM-Online_over_-truth_-_mjj_-_eta               []     []     []   \n",
      "scaled_h_-_Pileup-Online_over_-truth_-_pt_-_eta            []     []     []   \n",
      "scaled_h_-_Pileup-Online_over_-truth_-_mjj_-_eta           []     []     []   \n",
      "scaled_h_-_EtaJES-Online_over_-truth_-_pt_-_eta            []     []     []   \n",
      "scaled_h_-_EtaJES-Online_over_-truth_-_mjj_-_eta           []     []     []   \n",
      "scaled_h_-_GSC-Online_over_-truth_-_pt_-_eta               []     []     []   \n",
      "scaled_h_-_GSC-Online_over_-truth_-_mjj_-_eta              []     []     []   \n",
      "\n",
      "                                                 TH1BinEdges TH1BinEntries  \\\n",
      "scaled_h_-_EM-Online_over_-truth_-_pt_-_eta               []            []   \n",
      "scaled_h_-_EM-Online_over_-truth_-_mjj_-_eta              []            []   \n",
      "scaled_h_-_Pileup-Online_over_-truth_-_pt_-_eta           []            []   \n",
      "scaled_h_-_Pileup-Online_over_-truth_-_mjj_-_eta          []            []   \n",
      "scaled_h_-_EtaJES-Online_over_-truth_-_pt_-_eta           []            []   \n",
      "scaled_h_-_EtaJES-Online_over_-truth_-_mjj_-_eta          []            []   \n",
      "scaled_h_-_GSC-Online_over_-truth_-_pt_-_eta              []            []   \n",
      "scaled_h_-_GSC-Online_over_-truth_-_mjj_-_eta             []            []   \n",
      "\n",
      "                                                 TH1BinErrors  \n",
      "scaled_h_-_EM-Online_over_-truth_-_pt_-_eta                []  \n",
      "scaled_h_-_EM-Online_over_-truth_-_mjj_-_eta               []  \n",
      "scaled_h_-_Pileup-Online_over_-truth_-_pt_-_eta            []  \n",
      "scaled_h_-_Pileup-Online_over_-truth_-_mjj_-_eta           []  \n",
      "scaled_h_-_EtaJES-Online_over_-truth_-_pt_-_eta            []  \n",
      "scaled_h_-_EtaJES-Online_over_-truth_-_mjj_-_eta           []  \n",
      "scaled_h_-_GSC-Online_over_-truth_-_pt_-_eta               []  \n",
      "scaled_h_-_GSC-Online_over_-truth_-_mjj_-_eta              []  \n"
     ]
    }
   ],
   "source": [
    "inFile = ROOT.TFile.Open(rootFilePath)\n",
    "listOfKeys = inFile.GetListOfKeys()\n",
    "\n",
    "l=[]\n",
    "for key in listOfKeys:\n",
    "    TH3Name = key.GetName()\n",
    "    if TH3Name[0:9] != \"scaled_h_\":\n",
    "        continue\n",
    "    elif inFile.Get(TH3Name).GetEntries()==0.0:\n",
    "        print(\"WARNING:\",TH3Name,\" is empty!\")\n",
    "        continue\n",
    "    else:\n",
    "        l.append(pd.Series({ \"x\"            :[],\n",
    "                             \"y\"            :[],\n",
    "                             \"xError\"         :[],\n",
    "                             \"yError\"         :[],\n",
    "                             \"sigma\"        :[],\n",
    "                             \"sigmaError\"     :[],\n",
    "                             \"sigmaOverY\"   :[],\n",
    "                             \"fitAmplitude\" :[],\n",
    "                             \"fitMin\"       :[],\n",
    "                             \"fitMax\"       :[],\n",
    "\n",
    "                             \"TH1BinEdges\":[],\n",
    "                             \"TH1BinEntries\":[],\n",
    "                             \"TH1BinErrors\":[],},\n",
    "                            name=TH3Name))\n",
    "\n",
    "df = pd.DataFrame(l)\n",
    "print(df)"
   ]
  },
  {
   "cell_type": "code",
   "execution_count": 4,
   "id": "detailed-divide",
   "metadata": {},
   "outputs": [
    {
     "name": "stdout",
     "output_type": "stream",
     "text": [
      "scaled_h_-_EM-Online_over_-truth_-_pt_-_eta\n",
      "300\n",
      "scaled_h_-_EM-Online_over_-truth_-_mjj_-_eta\n",
      "300\n",
      "scaled_h_-_Pileup-Online_over_-truth_-_pt_-_eta\n",
      "300\n",
      "scaled_h_-_Pileup-Online_over_-truth_-_mjj_-_eta\n",
      "300\n",
      "scaled_h_-_EtaJES-Online_over_-truth_-_pt_-_eta\n",
      "300\n",
      "scaled_h_-_EtaJES-Online_over_-truth_-_mjj_-_eta\n",
      "300\n",
      "scaled_h_-_GSC-Online_over_-truth_-_pt_-_eta\n",
      "300\n",
      "scaled_h_-_GSC-Online_over_-truth_-_mjj_-_eta\n",
      "300\n"
     ]
    },
    {
     "name": "stderr",
     "output_type": "stream",
     "text": [
      "Info in <TCanvas::MakeDefCanvas>:  created default TCanvas with name c1\n"
     ]
    }
   ],
   "source": [
    "inFile = ROOT.TFile.Open(rootFilePath)\n",
    "listOfKeys = inFile.GetListOfKeys()\n",
    "\n",
    "for TH3Name in df.index:\n",
    "    print(TH3Name)\n",
    "    \n",
    "    #xList, yList, xErrorList, yErrorList, sigmaList, sigmaErrorList, sigmaOverYList, entriesList = array( 'd' ), array( 'd' ), array( 'd' ), array( 'd' ), array( 'd' ), array( 'd' ), array( 'd' ), array( 'd' )\n",
    "    inTH3 = inFile.Get(TH3Name)\n",
    "    h3D = inTH3.Clone()\n",
    "    print(h3D.GetXaxis().GetNbins())\n",
    "\n",
    "    #set JES_BalanceFitter options\n",
    "    JESBfitter = JES_BalanceFitter(nSigmaForFit)\n",
    "    JESBfitter.SetGaus()\n",
    "    JESBfitter.SetFitOpt(fitOptString)\n",
    "    \n",
    "    listOfTH1Content=[]\n",
    "    listOfGaussians=[]\n",
    "        \n",
    "    xnBins = h3D.GetXaxis().GetNbins()\n",
    "    ynBins = h3D.GetYaxis().GetNbins()\n",
    "\n",
    "    for bin in choosenSlices:           \n",
    "        #Get the bin which corresponds to the desired slice axis range\n",
    "        if slicingAxis == \"y\":\n",
    "            h3D.GetYaxis().SetRangeUser(bin[0], bin[1])     \n",
    "        elif slicingAxis == \"z\":\n",
    "            h3D.GetZaxis().SetRangeUser(bin[0], bin[1]) \n",
    "                          \n",
    "        #Project the 3D histogram with the set y-axis range\n",
    "        h2D=h3D.Project3D(responseAxis + projectionAxis)\n",
    "         \n",
    "        #rebin according to the desired rebinningFactor\n",
    "        h2D.RebinX(projectionRebinWidth)\n",
    "                \n",
    "        currentRebinnedBin = 1; \n",
    "        for currentRebinnedBin in range(1, h2D.GetNbinsX()+1):\n",
    "            #name of projection\n",
    "            projName = \"slice\"+str(bin[0])+\"to\"+str(bin[1])+\"_projectionBin\"+str(h2D.GetXaxis().GetBinLowEdge(currentRebinnedBin))+\"to\"+str(h2D.GetXaxis().GetBinUpEdge(currentRebinnedBin))\n",
    " \n",
    "            #take projection\n",
    "            h1D=h2D.ProjectionY(projName, currentRebinnedBin, currentRebinnedBin)\n",
    "            \n",
    "            #skip empty bins\n",
    "            if h1D.GetEntries() == 0:\n",
    "                #print(\"empty 1D hist, skipping!\")\n",
    "                continue\n",
    "            \n",
    "            #fitting limits\n",
    "            fitMax = h1D.GetMean() + nSigmaForFit * h1D.GetRMS()\n",
    "            fitMin = h1D.GetMean() - nSigmaForFit * h1D.GetRMS()\n",
    "            \n",
    "            #obtain fit using JES_BalanceFitter and associate it to the TH1           \n",
    "            JESBfitter.Fit(h1D, fitMin, fitMax)\n",
    "            fit = JESBfitter.GetFit()\n",
    "            histFit = JESBfitter.GetHisto()\n",
    "            Chi2Ndof = JESBfitter.GetChi2Ndof()\n",
    "            histFit.GetListOfFunctions().Add(fit)\n",
    "\n",
    "            binEdges=[]\n",
    "            binEntries=[]\n",
    "            binErrors=[]\n",
    "            for i in range(1, h1D.GetNbinsX()+1):#Plus one to include last bin, this is simple python syntax\n",
    "              binEdges.append(h1D.GetXaxis().GetBinLowEdge(i))\n",
    "              binEntries.append(h1D.GetBinContent(i))\n",
    "              binErrors.append(h1D.GetBinError(i))\n",
    "            binErrors.append(h1D.GetXaxis().GetBinUpEdge(h1D.GetNbinsX()))# Append the right most edge\n",
    "            \n",
    "            \n",
    "            df[\"x\"].loc[TH3Name].append(float(h2D.GetXaxis().GetBinCenter(currentRebinnedBin)))\n",
    "            df[\"y\"].loc[TH3Name].append(float(fit.GetParameter(1)))\n",
    "            df[\"xError\"].loc[TH3Name].append(float((h2D.GetXaxis().GetBinWidth(currentRebinnedBin)/2.0)))#half bin width\n",
    "            df[\"yError\"].loc[TH3Name].append(float(fit.GetParError(1)))\n",
    "            df[\"sigma\"].loc[TH3Name].append(float(fit.GetParameter(2)))\n",
    "            df[\"sigmaError\"].loc[TH3Name].append(float(fit.GetParError(2)))\n",
    "            try: \n",
    "                df[\"sigmaOverY\"].loc[TH3Name].append(float(fit.GetParameter(2) / float(fit.GetParameter(1))))\n",
    "            except: \n",
    "                df[\"sigmaOverY\"].loc[TH3Name].append(0)\n",
    "                \n",
    "            df[\"TH1BinEdges\"].loc[TH3Name].append(binEdges)\n",
    "            df[\"TH1BinEntries\"].loc[TH3Name].append(binEntries)\n",
    "            df[\"TH1BinErrors\"].loc[TH3Name].append(binErrors)\n",
    "        \n",
    "inFile.Close()\n",
    "\n",
    "df.to_pickle(\"TH3Dataframe.pickle\")"
   ]
  },
  {
   "cell_type": "markdown",
   "id": "after-maldives",
   "metadata": {},
   "source": [
    "## Plotting"
   ]
  },
  {
   "cell_type": "code",
   "execution_count": 5,
   "id": "latest-wages",
   "metadata": {},
   "outputs": [],
   "source": [
    "import scipy as scipy\n",
    "import matplotlib.pyplot as plt\n",
    "import mplhep as hep"
   ]
  },
  {
   "cell_type": "code",
   "execution_count": 7,
   "id": "bound-contamination",
   "metadata": {},
   "outputs": [
    {
     "name": "stdout",
     "output_type": "stream",
     "text": [
      "TH3 Name: scaled_h_-_EM-Online_over_-truth_-_mjj_-_eta\n"
     ]
    },
    {
     "name": "stderr",
     "output_type": "stream",
     "text": [
      "'texgyreheros-bolditalic.otf' can not be subsetted into a Type 3 font. The entire font will be embedded in the output.\n",
      "'texgyreheros-regular.otf' can not be subsetted into a Type 3 font. The entire font will be embedded in the output.\n"
     ]
    },
    {
     "name": "stdout",
     "output_type": "stream",
     "text": [
      "TH3 Name: scaled_h_-_Pileup-Online_over_-truth_-_mjj_-_eta\n"
     ]
    },
    {
     "name": "stderr",
     "output_type": "stream",
     "text": [
      "'texgyreheros-bolditalic.otf' can not be subsetted into a Type 3 font. The entire font will be embedded in the output.\n",
      "'texgyreheros-regular.otf' can not be subsetted into a Type 3 font. The entire font will be embedded in the output.\n"
     ]
    },
    {
     "name": "stdout",
     "output_type": "stream",
     "text": [
      "TH3 Name: scaled_h_-_EtaJES-Online_over_-truth_-_mjj_-_eta\n"
     ]
    },
    {
     "name": "stderr",
     "output_type": "stream",
     "text": [
      "'texgyreheros-bolditalic.otf' can not be subsetted into a Type 3 font. The entire font will be embedded in the output.\n",
      "'texgyreheros-regular.otf' can not be subsetted into a Type 3 font. The entire font will be embedded in the output.\n"
     ]
    },
    {
     "name": "stdout",
     "output_type": "stream",
     "text": [
      "TH3 Name: scaled_h_-_GSC-Online_over_-truth_-_mjj_-_eta\n"
     ]
    },
    {
     "name": "stderr",
     "output_type": "stream",
     "text": [
      "'texgyreheros-bolditalic.otf' can not be subsetted into a Type 3 font. The entire font will be embedded in the output.\n",
      "'texgyreheros-regular.otf' can not be subsetted into a Type 3 font. The entire font will be embedded in the output.\n"
     ]
    },
    {
     "data": {
      "image/png": "[encoded data removed]",
      "text/plain": [
       "<Figure size 576x432 with 1 Axes>"
      ]
     },
     "metadata": {
      "needs_background": "light"
     },
     "output_type": "display_data"
    }
   ],
   "source": [
    "df = pd.read_pickle(\"./TH3Dataframe.pickle\")\n",
    "\n",
    "DataOrMC = \"MC\"\n",
    "#DataOrMC = \"Data\"\n",
    "OnlineOrOffline = \"Online\"\n",
    "f, ax = plt.subplots(figsize=(8, 6),sharex=True)\n",
    "\n",
    "iColors = 0\n",
    "iMarkers = 0\n",
    "\n",
    "denominatorType = \"Truth\"\n",
    "projectionAxisUnit = \"mjj\"\n",
    "#print(listOfTH3Names)\n",
    "\n",
    "markers = [\"v\",\">\",\"^\",\"o\"]\n",
    "colors = [\"darkorange\",\"dodgerblue\",\"crimson\",\"black\"]\n",
    "\n",
    "i=-1\n",
    "\n",
    "for TH3Name in df.index:\n",
    "    if \"_pt_\" in TH3Name:\n",
    "        continue\n",
    "    i+=1\n",
    "    print(\"TH3 Name:\",TH3Name)\n",
    "\n",
    "    x=df[\"x\"].loc[TH3Name]\n",
    "    y=df[\"y\"].loc[TH3Name]\n",
    "    x_error=df[\"xError\"].loc[TH3Name]\n",
    "    y_error=df[\"yError\"].loc[TH3Name]\n",
    "    \n",
    "    numerator = TH3Name.split(\"_-_\")[1].split(\"_\")[0].split(\"-\")[0]\n",
    "    denominator = TH3Name.split(\"_-_\")[1].split(\"_\")[2].split(\"-\")[0]\n",
    "    if denominator == \"\":\n",
    "        denominator = TH3Name.split(\"_-_\")[1].split(\"_\")[2].split(\"-\")[1]\n",
    "    my_label=numerator+\"$_{p_T}$\"+\" / \"+denominator+\"$ _{p_T}$\"\n",
    "    \n",
    "    ax.errorbar(x, y, yerr=y_error, xerr=x_error,\n",
    "                linestyle='None',\n",
    "                marker=markers[i],\n",
    "                color=colors[i],\n",
    "                markersize=2,\n",
    "                linewidth=0.5,\n",
    "                label=my_label)\n",
    "\n",
    "    # Legend\n",
    "    leg = ax.legend(borderpad=0.5, loc=1, ncol=2, frameon=True,facecolor=\"white\",framealpha=1)\n",
    "    fileName=rootFilePath.split(\"/\")[-1]\n",
    "    dataType = fileName.split(\"_\")[1]\n",
    "    numerator = TH3Name.split(\"_-_\")[1].split(\"_\")[0].split(\"-\")[0]\n",
    "    leg._legend_box.align = \"right\"\n",
    "    leg.set_title(\"Online small-R jets: \"+\"$\\eta$ = \"+\", $y^{*}<0.6$\")#+\"\\nFit range:[\"+str(round(x[0],0))+\", \"+str(round(x[-1],0))+\"] GeV\")\n",
    "\n",
    "    # Apply ATLAS labels and ticks\n",
    "    plt.sca(ax)\n",
    "    plt.xticks(rotation=45)\n",
    "    ax.grid()\n",
    "\n",
    "    plt.sca(ax)\n",
    "    plt.xticks(rotation=45)\n",
    "    ax.set_axisbelow(True)\n",
    "    ax.set_xticks([300,400,500,600,700,800,900,1000,2000,3000])\n",
    "\n",
    "    iColors+=1\n",
    "    iMarkers+=1\n",
    "\n",
    "    ax = plt.gca()\n",
    "    ax.grid(True)\n",
    "    ax.set_axisbelow(True)\n",
    "\n",
    "    hep.atlas.text(\"Internal\",ax=ax)\n",
    "    #for entry in inFile['x']:\n",
    "    #    print(entry)\n",
    "    #break\n",
    "        \n",
    "    #plt.tight_layout()\n",
    "    f.subplots_adjust(left=0.1, right=0.95, bottom=0.12, top=0.95)\n",
    "\n",
    "    # Set limits and labels\n",
    "    ax.set_xlim(100,5000)\n",
    "    ax.set_ylim(0.99,1.01)\n",
    "    ax.set_ylabel(\"mjj Response\", ha='right', y=1.0)\n",
    "    ax.set_xlabel(\"Truth mjj\", ha='right',x=1.0)\n",
    "    ax.set_xscale(\"log\")\n",
    "\n",
    "    tickList = [1,2,3,4,5,6,7,8,9,\n",
    "    10,20,30,40,50,60,70,80,90,\n",
    "    100,200,300,400,500,600,700,800,900,\n",
    "    1000,2000,3000,4000,5000,6000,7000,8000,9000,\n",
    "    10000]\n",
    "    tickLabelList = [1,2,3,4,5,6,7,8,9,\n",
    "    10,20,30,40,50,60,70,80,90,\n",
    "    100,200,300,400,500,600,700,800,900,\n",
    "    1000,2000,3000,4000,5000,6000,7000,8000,9000,\n",
    "    10000]\n",
    "\n",
    "    ax.set_xticks(tickList[tickList.index(100):tickList.index(5000)])\n",
    "    ax.set_xticklabels(tickLabelList[tickLabelList.index(100):tickLabelList.index(5000)])\n",
    "\n",
    "    f.savefig(denominatorType+\"_-_\"+projectionAxisUnit+\".pdf\")"
   ]
  },
  {
   "cell_type": "code",
   "execution_count": null,
   "id": "boolean-literacy",
   "metadata": {},
   "outputs": [],
   "source": []
  }
 ],
 "metadata": {
  "kernelspec": {
   "display_name": "Python 3",
   "language": "python",
   "name": "python3"
  },
  "language_info": {
   "codemirror_mode": {
    "name": "ipython",
    "version": 3
   },
   "file_extension": ".py",
   "mimetype": "text/x-python",
   "name": "python",
   "nbconvert_exporter": "python",
   "pygments_lexer": "ipython3",
   "version": "3.8.8"
  }
 },
 "nbformat": 4,
 "nbformat_minor": 5
}
